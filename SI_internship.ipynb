{
  "nbformat": 4,
  "nbformat_minor": 0,
  "metadata": {
    "colab": {
      "name": "SI_internship.ipynb",
      "provenance": [],
      "collapsed_sections": []
    },
    "kernelspec": {
      "name": "python3",
      "display_name": "Python 3"
    },
    "language_info": {
      "name": "python"
    }
  },
  "cells": [
    {
      "cell_type": "code",
      "metadata": {
        "id": "Wsl7gI5WkNSE"
      },
      "source": [
        "import json\n",
        "fd=open(\"listforinventory.json\",\"w\")"
      ],
      "execution_count": 36,
      "outputs": []
    },
    {
      "cell_type": "code",
      "metadata": {
        "id": "-c5gUM_GlWps"
      },
      "source": [
        "js = json.dumps(inven)"
      ],
      "execution_count": 37,
      "outputs": []
    },
    {
      "cell_type": "code",
      "metadata": {
        "colab": {
          "base_uri": "https://localhost:8080/"
        },
        "id": "2jVg8j9XleyA",
        "outputId": "2f68aba6-e3ef-440d-8b97-c1547dc5e38f"
      },
      "source": [
        "fd.write(js)"
      ],
      "execution_count": 22,
      "outputs": [
        {
          "output_type": "execute_result",
          "data": {
            "text/plain": [
              "2953"
            ]
          },
          "metadata": {},
          "execution_count": 22
        }
      ]
    },
    {
      "cell_type": "code",
      "metadata": {
        "colab": {
          "base_uri": "https://localhost:8080/"
        },
        "id": "CSGek_E_ljdn",
        "outputId": "3befb93f-dc70-420f-a376-b31cb2f6c158"
      },
      "source": [
        "fd.close"
      ],
      "execution_count": 23,
      "outputs": [
        {
          "output_type": "execute_result",
          "data": {
            "text/plain": [
              "<function TextIOWrapper.close>"
            ]
          },
          "metadata": {},
          "execution_count": 23
        }
      ]
    },
    {
      "cell_type": "code",
      "metadata": {
        "id": "ZyXjzG3sl2Jn"
      },
      "source": [
        "fd=open(\"records.json\",'w')\n",
        "fd.write(js)\n",
        "fd.close()"
      ],
      "execution_count": 26,
      "outputs": []
    },
    {
      "cell_type": "code",
      "metadata": {
        "id": "B_-ieJiEsUL2"
      },
      "source": [
        "fd=open('records.json','r')\n",
        "js=fd.read()\n",
        "fd.close()"
      ],
      "execution_count": 27,
      "outputs": []
    },
    {
      "cell_type": "code",
      "metadata": {
        "colab": {
          "base_uri": "https://localhost:8080/"
        },
        "id": "3coA-2LAsW8l",
        "outputId": "bb77c2d0-a436-4d55-a912-a7a76ef89146"
      },
      "source": [
        "records=json.loads(js)\n",
        "records"
      ],
      "execution_count": 52,
      "outputs": [
        {
          "output_type": "execute_result",
          "data": {
            "text/plain": [
              "{'0001': {'category': 'chocolate',\n",
              "  'item': 'dairymilk(s)',\n",
              "  'price': 20,\n",
              "  'quantity': 10,\n",
              "  'rating': 7},\n",
              " '0002': {'category': 'chocolate',\n",
              "  'item': 'dairymilk(m)',\n",
              "  'price': 40,\n",
              "  'quantity': 100,\n",
              "  'rating': 8},\n",
              " '0003': {'category': 'chocolate',\n",
              "  'item': 'dairymilk(l)',\n",
              "  'price': 100,\n",
              "  'quantity': 50,\n",
              "  'rating': 8},\n",
              " '0004': {'category': 'chocolate',\n",
              "  'item': 'barone(s)',\n",
              "  'price': 10,\n",
              "  'quantity': 200,\n",
              "  'rating': 6},\n",
              " '0005': {'category': 'chocolate',\n",
              "  'item': 'barone(m)',\n",
              "  'price': 40,\n",
              "  'quantity': 75,\n",
              "  'rating': 7},\n",
              " '0006': {'category': 'chocolate',\n",
              "  'item': 'barone(l)',\n",
              "  'price': 80,\n",
              "  'quantity': 50,\n",
              "  'rating': 8},\n",
              " '0007': {'category': 'chocolate',\n",
              "  'item': 'kitkat(s)',\n",
              "  'price': 1,\n",
              "  'quantity': 500,\n",
              "  'rating': 6},\n",
              " '0008': {'category': 'chocolate',\n",
              "  'item': 'kitkat(l)',\n",
              "  'price': 150,\n",
              "  'quantity': 50,\n",
              "  'rating': 6},\n",
              " '0009': {'category': 'chocolate',\n",
              "  'item': 'temptation(s)',\n",
              "  'price': 20,\n",
              "  'quantity': 100,\n",
              "  'rating': 9},\n",
              " '0010': {'category': 'chocolate',\n",
              "  'item': 'temptation(l)',\n",
              "  'price': 80,\n",
              "  'quantity': 30,\n",
              "  'rating': 9},\n",
              " '0011': {'category': 'chocolate',\n",
              "  'item': 'crispello(s)',\n",
              "  'price': 80,\n",
              "  'quantity': 100,\n",
              "  'rating': 9},\n",
              " '0012': {'category': 'chocolate',\n",
              "  'item': 'crispello(l)',\n",
              "  'price': 40,\n",
              "  'quantity': 10,\n",
              "  'rating': 8},\n",
              " '0013': {'category': 'chocolate',\n",
              "  'item': 'milkybar(s)',\n",
              "  'price': 10,\n",
              "  'quantity': 100,\n",
              "  'rating': 8},\n",
              " '0014': {'category': 'chocolate',\n",
              "  'item': '5star(s)',\n",
              "  'price': 10,\n",
              "  'quantity': 100,\n",
              "  'rating': 8},\n",
              " '0015': {'category': 'chocolate',\n",
              "  'item': '5star(m)',\n",
              "  'price': 20,\n",
              "  'quantity': 100,\n",
              "  'rating': 8},\n",
              " '0016': {'category': 'chocolate',\n",
              "  'item': '5star(l)',\n",
              "  'price': 40,\n",
              "  'quantity': 50,\n",
              "  'rating': 8},\n",
              " '0017': {'category': 'chocolate',\n",
              "  'item': 'milkybar(l)',\n",
              "  'price': 10,\n",
              "  'quantity': 300,\n",
              "  'rating': 7},\n",
              " '0018': {'category': 'chocolate',\n",
              "  'item': 'kitkat(m)',\n",
              "  'price': 40,\n",
              "  'quantity': 400,\n",
              "  'rating': 9},\n",
              " '0019': {'category': 'chocolate',\n",
              "  'item': 'snickers',\n",
              "  'price': 10,\n",
              "  'quantity': 500,\n",
              "  'rating': 6},\n",
              " '0020': {'category': 'chocolate',\n",
              "  'item': 'Crackles',\n",
              "  'price': 1,\n",
              "  'quantity': 1000,\n",
              "  'rating': 7},\n",
              " '0021': {'category': 'chocolate',\n",
              "  'item': 'Silk',\n",
              "  'price': 1,\n",
              "  'quantity': 1000,\n",
              "  'rating': 8},\n",
              " '0022': {'category': 'chocolate',\n",
              "  'item': 'chocobar',\n",
              "  'price': 10,\n",
              "  'quantity': 200,\n",
              "  'rating': 7},\n",
              " '0023': {'category': 'chocolate',\n",
              "  'item': 'twix',\n",
              "  'price': 100,\n",
              "  'quantity': 100,\n",
              "  'rating': 9},\n",
              " '0024': {'category': 'chocolate',\n",
              "  'item': 'hershey bar',\n",
              "  'price': 5,\n",
              "  'quantity': 200,\n",
              "  'rating': 9},\n",
              " '0025': {'category': 'chocolate',\n",
              "  'item': 'crunch',\n",
              "  'price': 70,\n",
              "  'quantity': 80,\n",
              "  'rating': 8},\n",
              " '0026': {'category': 'chocolate',\n",
              "  'item': 'rolos',\n",
              "  'price': 30,\n",
              "  'quantity': 80,\n",
              "  'rating': 7},\n",
              " '0027': {'category': 'chocolate',\n",
              "  'item': 'mars',\n",
              "  'price': 100,\n",
              "  'quantity': 90,\n",
              "  'rating': 9},\n",
              " '0028': {'category': 'chocolate',\n",
              "  'item': 'bueno',\n",
              "  'price': 200,\n",
              "  'quantity': 40,\n",
              "  'rating': 8},\n",
              " '0029': {'category': 'chocolate',\n",
              "  'item': 'aero',\n",
              "  'price': 20,\n",
              "  'quantity': 100,\n",
              "  'rating': 9},\n",
              " '0030': {'category': 'chocolate',\n",
              "  'item': 'caramello',\n",
              "  'price': 50,\n",
              "  'quantity': 300,\n",
              "  'rating': 9}}"
            ]
          },
          "metadata": {},
          "execution_count": 52
        }
      ]
    },
    {
      "cell_type": "code",
      "metadata": {
        "colab": {
          "base_uri": "https://localhost:8080/"
        },
        "id": "6GYdUXGUs6T8",
        "outputId": "58bd5416-de23-4239-8255-91beb70f9afe"
      },
      "source": [
        "import time\n",
        "x=\"y\"\n",
        "total=0\n",
        "while(x==\"y\" or x==\"Y\"):\n",
        "  \n",
        "  prod_id=input(\"enter id of product you want to purchase:\")\n",
        "  qty=int(input(\"enter quantity of product:\"))\n",
        "  if(qty<records[prod_id][\"quantity\"]):\n",
        "    \n",
        "    cust_name=input(\"enter customer name:\")\n",
        "    print(\"product :\",records[prod_id][\"item\"])\n",
        "    print(\"price per product :\",records[prod_id][\"price\"])\n",
        "    print(\"billing amount:\",records[prod_id][\"price\"]*qty)\n",
        "    records[prod_id][\"quantity\"]=records[prod_id][\"quantity\"]-qty\n",
        "    total=records[prod_id][\"price\"]*qty+total\n",
        "    x=input(\"Want to buy more products enter y for yes and no for displaying total bill :\")\n",
        "  else:\n",
        "      print(\"Quantity exceeded\")                                 \n",
        "\n",
        "print(\" Customer name:\",cust_name,\"                               Time & Date of shopping:\",time.ctime())\n",
        "print(\"                                                                                                          \")\n",
        "print(\"                                                                                                          \")\n",
        "print(\"     your bill amount is \",total,\"for the product you have purchased.\")"
      ],
      "execution_count": 55,
      "outputs": [
        {
          "output_type": "stream",
          "name": "stdout",
          "text": [
            "enter id of product you want to purchase:0029\n",
            "enter quantity of product:101\n",
            "Quantity exceeded\n",
            "enter id of product you want to purchase:0029\n",
            "enter quantity of product:10\n",
            "enter customer name:Akshat\n",
            "product : aero\n",
            "price per product : 20\n",
            "billing amount: 200\n",
            "Want to buy more products enter y for yes and no for displaying total bill :y\n",
            "enter id of product you want to purchase:0030\n",
            "enter quantity of product:30\n",
            "enter customer name:Akshat\n",
            "product : caramello\n",
            "price per product : 50\n",
            "billing amount: 1500\n",
            "Want to buy more products enter y for yes and no for displaying total bill :n\n",
            " Customer name: Akshat                                Time & Date of shopping: Mon Sep  6 11:23:21 2021\n",
            "                                                                                                          \n",
            "                                                                                                          \n",
            "     your bill amount is  1700 for the product you have purchased.\n"
          ]
        }
      ]
    },
    {
      "cell_type": "code",
      "metadata": {
        "colab": {
          "base_uri": "https://localhost:8080/"
        },
        "id": "lqOZem-zyOgO",
        "outputId": "354ad68d-1010-4113-cca9-efe69f33c545"
      },
      "source": [
        "records"
      ],
      "execution_count": 56,
      "outputs": [
        {
          "output_type": "execute_result",
          "data": {
            "text/plain": [
              "{'0001': {'category': 'chocolate',\n",
              "  'item': 'dairymilk(s)',\n",
              "  'price': 20,\n",
              "  'quantity': 10,\n",
              "  'rating': 7},\n",
              " '0002': {'category': 'chocolate',\n",
              "  'item': 'dairymilk(m)',\n",
              "  'price': 40,\n",
              "  'quantity': 100,\n",
              "  'rating': 8},\n",
              " '0003': {'category': 'chocolate',\n",
              "  'item': 'dairymilk(l)',\n",
              "  'price': 100,\n",
              "  'quantity': 50,\n",
              "  'rating': 8},\n",
              " '0004': {'category': 'chocolate',\n",
              "  'item': 'barone(s)',\n",
              "  'price': 10,\n",
              "  'quantity': 200,\n",
              "  'rating': 6},\n",
              " '0005': {'category': 'chocolate',\n",
              "  'item': 'barone(m)',\n",
              "  'price': 40,\n",
              "  'quantity': 75,\n",
              "  'rating': 7},\n",
              " '0006': {'category': 'chocolate',\n",
              "  'item': 'barone(l)',\n",
              "  'price': 80,\n",
              "  'quantity': 50,\n",
              "  'rating': 8},\n",
              " '0007': {'category': 'chocolate',\n",
              "  'item': 'kitkat(s)',\n",
              "  'price': 1,\n",
              "  'quantity': 500,\n",
              "  'rating': 6},\n",
              " '0008': {'category': 'chocolate',\n",
              "  'item': 'kitkat(l)',\n",
              "  'price': 150,\n",
              "  'quantity': 50,\n",
              "  'rating': 6},\n",
              " '0009': {'category': 'chocolate',\n",
              "  'item': 'temptation(s)',\n",
              "  'price': 20,\n",
              "  'quantity': 100,\n",
              "  'rating': 9},\n",
              " '0010': {'category': 'chocolate',\n",
              "  'item': 'temptation(l)',\n",
              "  'price': 80,\n",
              "  'quantity': 30,\n",
              "  'rating': 9},\n",
              " '0011': {'category': 'chocolate',\n",
              "  'item': 'crispello(s)',\n",
              "  'price': 80,\n",
              "  'quantity': 100,\n",
              "  'rating': 9},\n",
              " '0012': {'category': 'chocolate',\n",
              "  'item': 'crispello(l)',\n",
              "  'price': 40,\n",
              "  'quantity': 10,\n",
              "  'rating': 8},\n",
              " '0013': {'category': 'chocolate',\n",
              "  'item': 'milkybar(s)',\n",
              "  'price': 10,\n",
              "  'quantity': 100,\n",
              "  'rating': 8},\n",
              " '0014': {'category': 'chocolate',\n",
              "  'item': '5star(s)',\n",
              "  'price': 10,\n",
              "  'quantity': 100,\n",
              "  'rating': 8},\n",
              " '0015': {'category': 'chocolate',\n",
              "  'item': '5star(m)',\n",
              "  'price': 20,\n",
              "  'quantity': 100,\n",
              "  'rating': 8},\n",
              " '0016': {'category': 'chocolate',\n",
              "  'item': '5star(l)',\n",
              "  'price': 40,\n",
              "  'quantity': 50,\n",
              "  'rating': 8},\n",
              " '0017': {'category': 'chocolate',\n",
              "  'item': 'milkybar(l)',\n",
              "  'price': 10,\n",
              "  'quantity': 300,\n",
              "  'rating': 7},\n",
              " '0018': {'category': 'chocolate',\n",
              "  'item': 'kitkat(m)',\n",
              "  'price': 40,\n",
              "  'quantity': 400,\n",
              "  'rating': 9},\n",
              " '0019': {'category': 'chocolate',\n",
              "  'item': 'snickers',\n",
              "  'price': 10,\n",
              "  'quantity': 500,\n",
              "  'rating': 6},\n",
              " '0020': {'category': 'chocolate',\n",
              "  'item': 'Crackles',\n",
              "  'price': 1,\n",
              "  'quantity': 1000,\n",
              "  'rating': 7},\n",
              " '0021': {'category': 'chocolate',\n",
              "  'item': 'Silk',\n",
              "  'price': 1,\n",
              "  'quantity': 1000,\n",
              "  'rating': 8},\n",
              " '0022': {'category': 'chocolate',\n",
              "  'item': 'chocobar',\n",
              "  'price': 10,\n",
              "  'quantity': 200,\n",
              "  'rating': 7},\n",
              " '0023': {'category': 'chocolate',\n",
              "  'item': 'twix',\n",
              "  'price': 100,\n",
              "  'quantity': 100,\n",
              "  'rating': 9},\n",
              " '0024': {'category': 'chocolate',\n",
              "  'item': 'hershey bar',\n",
              "  'price': 5,\n",
              "  'quantity': 200,\n",
              "  'rating': 9},\n",
              " '0025': {'category': 'chocolate',\n",
              "  'item': 'crunch',\n",
              "  'price': 70,\n",
              "  'quantity': 80,\n",
              "  'rating': 8},\n",
              " '0026': {'category': 'chocolate',\n",
              "  'item': 'rolos',\n",
              "  'price': 30,\n",
              "  'quantity': 80,\n",
              "  'rating': 7},\n",
              " '0027': {'category': 'chocolate',\n",
              "  'item': 'mars',\n",
              "  'price': 100,\n",
              "  'quantity': 90,\n",
              "  'rating': 9},\n",
              " '0028': {'category': 'chocolate',\n",
              "  'item': 'bueno',\n",
              "  'price': 200,\n",
              "  'quantity': 40,\n",
              "  'rating': 8},\n",
              " '0029': {'category': 'chocolate',\n",
              "  'item': 'aero',\n",
              "  'price': 20,\n",
              "  'quantity': 90,\n",
              "  'rating': 9},\n",
              " '0030': {'category': 'chocolate',\n",
              "  'item': 'caramello',\n",
              "  'price': 50,\n",
              "  'quantity': 270,\n",
              "  'rating': 9}}"
            ]
          },
          "metadata": {},
          "execution_count": 56
        }
      ]
    }
  ]
}